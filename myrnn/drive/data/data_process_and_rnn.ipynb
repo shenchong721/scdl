{
 "cells": [
  {
   "cell_type": "code",
   "execution_count": 1,
   "metadata": {
    "collapsed": true
   },
   "outputs": [],
   "source": [
    "import numpy as np\n",
    "import random\n",
    "from random import shuffle\n",
    "import tensorflow as tf"
   ]
  },
  {
   "cell_type": "code",
   "execution_count": 10,
   "metadata": {
    "collapsed": false
   },
   "outputs": [],
   "source": [
    "#将9维信息读入提取出来\n",
    "def read9content(fileName):\n",
    "    outfile = file(fileName[:-3]+\"csv\",'wb')\n",
    "    with open(fileName,'rb') as f:\n",
    "        for line in f:\n",
    "            line = line.split('\\t')\n",
    "            if len(line)==12:\n",
    "                for index in range(9):\n",
    "                    outfile.write(line[index+2] + \" \")\n",
    "                outfile.write('\\n')\n",
    "#         if i==10:\n",
    "#             break\n",
    "    outfile.close()\n",
    "read9content(\"Data160816045256.tsv\")\n",
    "read9content(\"Data160816070341.tsv\")\n",
    "read9content(\"Data161009015449.tsv\")\n",
    "read9content(\"Data161009110841.tsv\")"
   ]
  },
  {
   "cell_type": "markdown",
   "metadata": {},
   "source": [
    "# attension  ！！！\n",
    "## 需要将生成的csv数据文件中的第一行删除"
   ]
  },
  {
   "cell_type": "code",
   "execution_count": 2,
   "metadata": {
    "collapsed": false
   },
   "outputs": [
    {
     "name": "stdout",
     "output_type": "stream",
     "text": [
      "train_input_841:  46381\n",
      "train_output_841:  46381\n"
     ]
    }
   ],
   "source": [
    "#处理数据 Data161009110841.csv\n",
    "#得到train_input_841，train_output_841\n",
    "\n",
    "#生成训练数据 Data161009110841.csv\n",
    "# 0-15000/1  15001-39000/2 39001-46400/3\n",
    "index = 0\n",
    "train_data = []\n",
    "with open(\"Data161009110841.csv\",\"rb\") as f:\n",
    "    for line in f:\n",
    "        if index==46400:\n",
    "            break\n",
    "        temp = []\n",
    "        line = line.strip().split(' ')\n",
    "        temp = [float(x) for x in line]\n",
    "        train_data.append(temp)\n",
    "        index = index +1\n",
    "\n",
    "#将数据每20维合成一个训练样本\n",
    "sequence_len = 20\n",
    "train_input_841 = []     #46381 * 20 * 9\n",
    "for i in range(46400-sequence_len+1):\n",
    "    temp = []\n",
    "    for j  in range(sequence_len):\n",
    "        temp.append(train_data[i+j])\n",
    "    train_input_841.append(temp)\n",
    "    \n",
    "    \n",
    "#生成数据标签  \n",
    "# 0-14980/1  14981-38980/2 38981-46381/3\n",
    "train_output_841 = []  #46381 * 3\n",
    "for i in range(0,14981):\n",
    "    temp = []\n",
    "    temp.append(1)\n",
    "    temp.append(0)\n",
    "    temp.append(0)\n",
    "    train_output_841.append(temp)\n",
    "    \n",
    "for i in range(14981,38981):\n",
    "    temp = []\n",
    "    temp.append(0)\n",
    "    temp.append(1)\n",
    "    temp.append(0)\n",
    "    train_output_841.append(temp)\n",
    "\n",
    "for i in range(38981,46381):\n",
    "    temp = []\n",
    "    temp.append(0)\n",
    "    temp.append(0)\n",
    "    temp.append(1)\n",
    "    train_output_841.append(temp)\n",
    "    \n",
    "print \"train_input_841: \",len(train_input_841)\n",
    "print \"train_output_841: \",len(train_output_841)"
   ]
  },
  {
   "cell_type": "code",
   "execution_count": 3,
   "metadata": {
    "collapsed": false
   },
   "outputs": [
    {
     "name": "stdout",
     "output_type": "stream",
     "text": [
      "train_input_449:  69651\n",
      "train_output_449:  69651\n"
     ]
    }
   ],
   "source": [
    "#处理数据 Data161009015449.csv\n",
    "#得到train_input_449，train_output_449\n",
    "\n",
    "#生成训练数据 Data161009015449.csv\n",
    "# 0-27900/3  51250-71800/2 71801-93059/1\n",
    "train_data = []\n",
    "with open(\"Data161009015449.csv\",\"rb\") as f:\n",
    "    for line in f:\n",
    "        temp = []\n",
    "        line = line.strip().split(' ')\n",
    "        temp = [float(x) for x in line]\n",
    "        train_data.append(temp)\n",
    "        \n",
    "#将数据每20维合成一个训练样本\n",
    "sequence_len = 20\n",
    "train_input_449 = []     #69651 * 20 * 9\n",
    "\n",
    "for i in range(0,27900-sequence_len+1):  #27881\n",
    "    temp = []\n",
    "    for j  in range(sequence_len):\n",
    "        temp.append(train_data[i+j])\n",
    "    train_input_449.append(temp)  \n",
    "# print len(train_input_449)    \n",
    "\n",
    "for i in range(51250,71800-sequence_len+1): #20531\n",
    "    temp = []\n",
    "    for j  in range(sequence_len):\n",
    "        temp.append(train_data[i+j])\n",
    "    train_input_449.append(temp)  \n",
    "# print len(train_input_449) \n",
    "\n",
    "for i in range(71801,93059-sequence_len+1): #21239\n",
    "    temp = []\n",
    "    for j  in range(sequence_len):\n",
    "        temp.append(train_data[i+j])\n",
    "    train_input_449.append(temp)  \n",
    "# print len(train_input_449) \n",
    "\n",
    "#生成数据标签  \n",
    "# 0-27900/3  51250-71800/2 71801-93059/1\n",
    "train_output_449 = []  #69651 * 3\n",
    "for i in range(0,27881):\n",
    "    temp = []\n",
    "    temp.append(0)\n",
    "    temp.append(0)\n",
    "    temp.append(1)\n",
    "    train_output_449.append(temp)\n",
    "    \n",
    "for i in range(27881,48412):\n",
    "    temp = []\n",
    "    temp.append(0)\n",
    "    temp.append(1)\n",
    "    temp.append(0)\n",
    "    train_output_449.append(temp)\n",
    "\n",
    "for i in range(48412,69651):\n",
    "    temp = []\n",
    "    temp.append(1)\n",
    "    temp.append(0)\n",
    "    temp.append(0)\n",
    "    train_output_449.append(temp)\n",
    "    \n",
    "print \"train_input_449: \",len(train_input_449)\n",
    "print \"train_output_449: \",len(train_output_449)"
   ]
  },
  {
   "cell_type": "code",
   "execution_count": 4,
   "metadata": {
    "collapsed": false
   },
   "outputs": [
    {
     "name": "stdout",
     "output_type": "stream",
     "text": [
      "train_input_256:  44657\n",
      "train_output_256:  44657\n"
     ]
    }
   ],
   "source": [
    "#处理数据 Data160816045256.csv\n",
    "#得到train_input_256，train_output_256\n",
    "\n",
    "#生成训练数据 Data160816045256.csv\n",
    "# 0-15000/2 15001-44696/3\n",
    "train_data = []\n",
    "with open(\"Data160816045256.csv\",\"rb\") as f:\n",
    "    for line in f:\n",
    "        temp = []\n",
    "        line = line.strip().split(' ')\n",
    "        temp = [float(x) for x in line]\n",
    "        train_data.append(temp)\n",
    "\n",
    "#将数据每20维合成一个训练样本\n",
    "sequence_len = 20\n",
    "train_input_256 = []     #44657 * 20 * 9\n",
    "\n",
    "for i in range(0,15000-sequence_len+1):  #14981\n",
    "    temp = []\n",
    "    for j  in range(sequence_len):\n",
    "        temp.append(train_data[i+j])\n",
    "    train_input_256.append(temp)  \n",
    "# print len(train_input_256)\n",
    "\n",
    "for i in range(15001,44696-sequence_len+1):  #29676\n",
    "    temp = []\n",
    "    for j  in range(sequence_len):\n",
    "        temp.append(train_data[i+j])\n",
    "    train_input_256.append(temp)  \n",
    "# print len(train_input_256)\n",
    "\n",
    "#生成数据标签  \n",
    "# 0-15000/2 15001-44696/3\n",
    "train_output_256 = []   #14981 * 2\n",
    "for i in range(0,14981):\n",
    "    temp = []\n",
    "    temp.append(0)\n",
    "    temp.append(1)\n",
    "    temp.append(0)\n",
    "    train_output_256.append(temp)\n",
    "    \n",
    "for i in range(14981,44657):\n",
    "    temp = []\n",
    "    temp.append(0)\n",
    "    temp.append(0)\n",
    "    temp.append(1)\n",
    "    train_output_256.append(temp)\n",
    "    \n",
    "print \"train_input_256: \",len(train_input_256)\n",
    "print \"train_output_256: \",len(train_output_256)"
   ]
  },
  {
   "cell_type": "code",
   "execution_count": 5,
   "metadata": {
    "collapsed": false
   },
   "outputs": [
    {
     "name": "stdout",
     "output_type": "stream",
     "text": [
      "train_input_341:  66564\n",
      "train_output_341:  66564\n"
     ]
    }
   ],
   "source": [
    "#处理数据 Data160816070341.csv\n",
    "#得到train_input_341，train_output_341\n",
    "\n",
    "#生成训练数据 Data160816045256.csv\n",
    "# 0-66583/1 \n",
    "train_data = []\n",
    "with open(\"Data160816070341.csv\",\"rb\") as f:\n",
    "    for line in f:\n",
    "        temp = []\n",
    "        line = line.strip().split(' ')\n",
    "        temp = [float(x) for x in line]\n",
    "        train_data.append(temp)\n",
    "# print len(train_data)\n",
    "\n",
    "#将数据每20维合成一个训练样本\n",
    "sequence_len = 20\n",
    "train_input_341 = []     #66564 * 20 * 9\n",
    "for i in range(0,66583-sequence_len+1):  #14981\n",
    "    temp = []\n",
    "    for j  in range(sequence_len):\n",
    "        temp.append(train_data[i+j])\n",
    "    train_input_341.append(temp)  \n",
    "# print len(train_input_341)\n",
    "\n",
    "#生成数据标签  \n",
    "# 0-66583/1 \n",
    "train_output_341 = []   #66564 * 1\n",
    "for i in range(0,66564):\n",
    "    temp = []\n",
    "    temp.append(1)\n",
    "    temp.append(0)\n",
    "    temp.append(0)\n",
    "    train_output_341.append(temp)\n",
    "print \"train_input_341: \",len(train_input_341)\n",
    "print \"train_output_341: \",len(train_output_341)    "
   ]
  },
  {
   "cell_type": "code",
   "execution_count": 6,
   "metadata": {
    "collapsed": false
   },
   "outputs": [
    {
     "name": "stdout",
     "output_type": "stream",
     "text": [
      "train_input_841:  46381\n",
      "train_output_841:  46381\n",
      "train_input_449:  69651\n",
      "train_output_449:  69651\n",
      "train_input_256:  44657\n",
      "train_output_256:  44657\n",
      "train_input_341:  66564\n",
      "train_output_341:  66564\n"
     ]
    }
   ],
   "source": [
    "#显示四个数据集的样本数\n",
    "# \"Data161009110841.tsv\"\n",
    "# \"Data161009015449.tsv\"\n",
    "# \"Data160816045256.tsv\"\n",
    "# \"Data160816070341.tsv\"\n",
    "print \"train_input_841: \",len(train_input_841)\n",
    "print \"train_output_841: \",len(train_output_841)\n",
    "print \"train_input_449: \",len(train_input_449)\n",
    "print \"train_output_449: \",len(train_output_449)\n",
    "print \"train_input_256: \",len(train_input_256)\n",
    "print \"train_output_256: \",len(train_output_256)\n",
    "print \"train_input_341: \",len(train_input_341)\n",
    "print \"train_output_341: \",len(train_output_341)"
   ]
  },
  {
   "cell_type": "code",
   "execution_count": 7,
   "metadata": {
    "collapsed": false
   },
   "outputs": [
    {
     "name": "stdout",
     "output_type": "stream",
     "text": [
      "182596\n"
     ]
    }
   ],
   "source": [
    "#数据集合并，想用几个数据集直接相加\n",
    "train_input = train_input_841 + train_input_449+train_input_341\n",
    "train_output = train_output_841 + train_output_449+train_output_341\n",
    "print len(train_input)\n",
    "\n",
    "#将数据集中的数据混合打乱\n",
    "index = [i for i in range(len(train_input))]    \n",
    "random.shuffle(index)   \n",
    "train_input1 = []\n",
    "train_output1 = []\n",
    "for i in index:\n",
    "    train_input1.append(train_input[i])\n",
    "    train_output1.append(train_output[i]) \n",
    "\n",
    "#分训练数据及测试数据(4:1)\n",
    "NUM_EXAMPLES = len(train_input)/5\n",
    "train_input = train_input1[NUM_EXAMPLES:]\n",
    "train_output = train_output1[NUM_EXAMPLES:] #everything beyond 10,000\n",
    "test_input = train_input1[:NUM_EXAMPLES]\n",
    "test_output = train_output1[:NUM_EXAMPLES] #till 10,000"
   ]
  },
  {
   "cell_type": "code",
   "execution_count": 8,
   "metadata": {
    "collapsed": false,
    "scrolled": true
   },
   "outputs": [
    {
     "name": "stderr",
     "output_type": "stream",
     "text": [
      "/tools/anaconda2/envs/tensorflow/lib/python2.7/site-packages/tensorflow/python/ops/gradients.py:90: UserWarning: Converting sparse IndexedSlices to a dense Tensor of unknown shape. This may consume a large amount of memory.\n",
      "  \"Converting sparse IndexedSlices to a dense Tensor of unknown shape. \"\n"
     ]
    },
    {
     "name": "stdout",
     "output_type": "stream",
     "text": [
      "Epoch  0\n"
     ]
    }
   ],
   "source": [
    "#rnn\n",
    "import tensorflow as tf\n",
    "#输入输出数据\n",
    "data = tf.placeholder(tf.float32, [None, 20,9]) #Number of examples, number of input, dimension of each input\n",
    "target = tf.placeholder(tf.float32, [None, 3])\n",
    "\n",
    "num_hidden = 24     \n",
    "cell = tf.nn.rnn_cell.LSTMCell(num_hidden,state_is_tuple=True)\n",
    "val, _ = tf.nn.dynamic_rnn(cell, data, dtype=tf.float32)\n",
    "val = tf.transpose(val, [1, 0, 2])\n",
    "last = tf.gather(val, int(val.get_shape()[0]) - 1)\n",
    "\n",
    "weight = tf.Variable(tf.truncated_normal([num_hidden, int(target.get_shape()[1])]))\n",
    "bias = tf.Variable(tf.constant(0.1, shape=[target.get_shape()[1]]))\n",
    "prediction = tf.nn.softmax(tf.matmul(last, weight) + bias)\n",
    "cross_entropy = -tf.reduce_sum(target * tf.log(prediction))   #误差函数\n",
    "optimizer = tf.train.AdamOptimizer()\n",
    "minimize = optimizer.minimize(cross_entropy)\n",
    "mistakes = tf.not_equal(tf.argmax(target, 1), tf.argmax(prediction, 1))\n",
    "error = tf.reduce_mean(tf.cast(mistakes, tf.float32))\n",
    "\n",
    "#模型参数初始化\n",
    "init_op = tf.initialize_all_variables()\n",
    "sess = tf.Session()\n",
    "sess.run(init_op)\n",
    "\n",
    "#训练参数\n",
    "batch_size = 1000\n",
    "no_of_batches = int(len(train_input)) / batch_size\n",
    "epoch = 1\n",
    "\n",
    "for i in range(epoch):\n",
    "    ptr = 0\n",
    "    for j in range(no_of_batches):\n",
    "        inp, out = train_input[ptr:ptr+batch_size], train_output[ptr:ptr+batch_size]\n",
    "        ptr+=batch_size\n",
    "        sess.run(minimize,{data: inp, target: out})\n",
    "    \n",
    "    if i%50 ==0:\n",
    "        print \"Epoch \",str(i)"
   ]
  },
  {
   "cell_type": "code",
   "execution_count": 9,
   "metadata": {
    "collapsed": false
   },
   "outputs": [
    {
     "name": "stdout",
     "output_type": "stream",
     "text": [
      "[[ 0.6575278   0.12208451  0.22038771]\n",
      " [ 0.49345002  0.30983093  0.19671902]\n",
      " [ 0.45673025  0.3403376   0.20293216]\n",
      " [ 0.77070981  0.03998085  0.18930939]\n",
      " [ 0.46610561  0.33905813  0.19483621]\n",
      " [ 0.48033848  0.31919712  0.20046449]\n",
      " [ 0.95609027  0.0413406   0.00256915]\n",
      " [ 0.46481004  0.3392663   0.1959237 ]\n",
      " [ 0.66831338  0.13087931  0.2008073 ]]\n",
      "[[1, 0, 0], [0, 1, 0], [1, 0, 0], [1, 0, 0], [0, 0, 1], [0, 1, 0], [1, 0, 0], [0, 0, 1], [1, 0, 0]]\n",
      "Epoch  1 error 44.4%\n"
     ]
    }
   ],
   "source": [
    "incorrect = sess.run(error,{data: test_input, target: test_output})\n",
    "print sess.run(prediction,{data: train_input[-10:-1]})\n",
    "print train_output[-10:-1]\n",
    "print('Epoch {:2d} error {:3.1f}%'.format(i + 1, 100 * incorrect))"
   ]
  },
  {
   "cell_type": "code",
   "execution_count": 10,
   "metadata": {
    "collapsed": true
   },
   "outputs": [],
   "source": [
    "sess.close()"
   ]
  }
 ],
 "metadata": {
  "anaconda-cloud": {},
  "kernelspec": {
   "display_name": "Python [default]",
   "language": "python",
   "name": "python2"
  },
  "language_info": {
   "codemirror_mode": {
    "name": "ipython",
    "version": 2
   },
   "file_extension": ".py",
   "mimetype": "text/x-python",
   "name": "python",
   "nbconvert_exporter": "python",
   "pygments_lexer": "ipython2",
   "version": "2.7.12"
  }
 },
 "nbformat": 4,
 "nbformat_minor": 1
}
