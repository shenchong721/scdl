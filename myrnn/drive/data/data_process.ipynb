{
 "cells": [
  {
   "cell_type": "code",
   "execution_count": 1,
   "metadata": {
    "collapsed": true
   },
   "outputs": [],
   "source": [
    "import numpy as np\n",
    "import random\n",
    "from random import shuffle\n",
    "import tensorflow as tf"
   ]
  },
  {
   "cell_type": "code",
   "execution_count": 10,
   "metadata": {
    "collapsed": false
   },
   "outputs": [],
   "source": [
    "#将9维信息读入提取出来\n",
    "def read9content(fileName):\n",
    "    outfile = file(fileName[:-3]+\"csv\",'wb')\n",
    "    with open(fileName,'rb') as f:\n",
    "        for line in f:\n",
    "            line = line.split('\\t')\n",
    "            if len(line)==12:\n",
    "                for index in range(9):\n",
    "                    outfile.write(line[index+2] + \" \")\n",
    "                outfile.write('\\n')\n",
    "#         if i==10:\n",
    "#             break\n",
    "    outfile.close()\n",
    "read9content(\"Data160816045256.tsv\")\n",
    "read9content(\"Data160816070341.tsv\")\n",
    "read9content(\"Data161009015449.tsv\")\n",
    "read9content(\"Data161009110841.tsv\")"
   ]
  },
  {
   "cell_type": "code",
   "execution_count": 2,
   "metadata": {
    "collapsed": false
   },
   "outputs": [
    {
     "name": "stdout",
     "output_type": "stream",
     "text": [
      "train_input_841:  46381\n",
      "train_output_841:  46381\n"
     ]
    }
   ],
   "source": [
    "#处理数据 Data161009110841.csv\n",
    "#得到train_input_841，train_output_841\n",
    "\n",
    "#生成训练数据 Data161009110841.csv\n",
    "# 0-15000/1  15001-39000/2 39001-46400/3\n",
    "index = 0\n",
    "train_data = []\n",
    "with open(\"Data161009110841.csv\",\"rb\") as f:\n",
    "    for line in f:\n",
    "        if index==46400:\n",
    "            break\n",
    "        temp = []\n",
    "        line = line.strip().split(' ')\n",
    "        temp = [float(x) for x in line]\n",
    "        train_data.append(temp)\n",
    "        index = index +1\n",
    "\n",
    "#将数据每20维合成一个训练样本\n",
    "sequence_len = 20\n",
    "train_input_841 = []     #46381 * 20 * 9\n",
    "for i in range(46400-sequence_len+1):\n",
    "    temp = []\n",
    "    for j  in range(sequence_len):\n",
    "        temp.append(train_data[i+j])\n",
    "    train_input_841.append(temp)\n",
    "    \n",
    "    \n",
    "#生成数据标签  \n",
    "# 0-14980/1  14981-38980/2 38981-46381/3\n",
    "train_output_841 = []  #46381 * 3\n",
    "for i in range(0,14981):\n",
    "    temp = []\n",
    "    temp.append(1)\n",
    "    temp.append(0)\n",
    "    temp.append(0)\n",
    "    train_output_841.append(temp)\n",
    "    \n",
    "for i in range(14981,38981):\n",
    "    temp = []\n",
    "    temp.append(0)\n",
    "    temp.append(1)\n",
    "    temp.append(0)\n",
    "    train_output_841.append(temp)\n",
    "\n",
    "for i in range(38981,46381):\n",
    "    temp = []\n",
    "    temp.append(0)\n",
    "    temp.append(0)\n",
    "    temp.append(1)\n",
    "    train_output_841.append(temp)\n",
    "    \n",
    "print \"train_input_841: \",len(train_input_841)\n",
    "print \"train_output_841: \",len(train_output_841)"
   ]
  },
  {
   "cell_type": "code",
   "execution_count": 3,
   "metadata": {
    "collapsed": false
   },
   "outputs": [
    {
     "name": "stdout",
     "output_type": "stream",
     "text": [
      "train_input_449:  69651\n",
      "train_output_449:  69651\n"
     ]
    }
   ],
   "source": [
    "#处理数据 Data161009015449.csv\n",
    "#得到train_input_449，train_output_449\n",
    "\n",
    "#生成训练数据 Data161009015449.csv\n",
    "# 0-27900/3  51250-71800/2 71801-93059/1\n",
    "train_data = []\n",
    "with open(\"Data161009015449.csv\",\"rb\") as f:\n",
    "    for line in f:\n",
    "        temp = []\n",
    "        line = line.strip().split(' ')\n",
    "        temp = [float(x) for x in line]\n",
    "        train_data.append(temp)\n",
    "        \n",
    "#将数据每20维合成一个训练样本\n",
    "sequence_len = 20\n",
    "train_input_449 = []     #69651 * 20 * 9\n",
    "\n",
    "for i in range(0,27900-sequence_len+1):  #27881\n",
    "    temp = []\n",
    "    for j  in range(sequence_len):\n",
    "        temp.append(train_data[i+j])\n",
    "    train_input_449.append(temp)  \n",
    "# print len(train_input_449)    \n",
    "\n",
    "for i in range(51250,71800-sequence_len+1): #20531\n",
    "    temp = []\n",
    "    for j  in range(sequence_len):\n",
    "        temp.append(train_data[i+j])\n",
    "    train_input_449.append(temp)  \n",
    "# print len(train_input_449) \n",
    "\n",
    "for i in range(71801,93059-sequence_len+1): #21239\n",
    "    temp = []\n",
    "    for j  in range(sequence_len):\n",
    "        temp.append(train_data[i+j])\n",
    "    train_input_449.append(temp)  \n",
    "# print len(train_input_449) \n",
    "\n",
    "#生成数据标签  \n",
    "# 0-27900/3  51250-71800/2 71801-93059/1\n",
    "train_output_449 = []  #69651 * 3\n",
    "for i in range(0,27881):\n",
    "    temp = []\n",
    "    temp.append(0)\n",
    "    temp.append(0)\n",
    "    temp.append(1)\n",
    "    train_output_449.append(temp)\n",
    "    \n",
    "for i in range(27881,48412):\n",
    "    temp = []\n",
    "    temp.append(0)\n",
    "    temp.append(1)\n",
    "    temp.append(0)\n",
    "    train_output_449.append(temp)\n",
    "\n",
    "for i in range(48412,69651):\n",
    "    temp = []\n",
    "    temp.append(1)\n",
    "    temp.append(0)\n",
    "    temp.append(0)\n",
    "    train_output_449.append(temp)\n",
    "    \n",
    "print \"train_input_449: \",len(train_input_449)\n",
    "print \"train_output_449: \",len(train_output_449)"
   ]
  },
  {
   "cell_type": "code",
   "execution_count": 4,
   "metadata": {
    "collapsed": false
   },
   "outputs": [
    {
     "name": "stdout",
     "output_type": "stream",
     "text": [
      "train_input_256:  44657\n",
      "train_output_256:  44657\n"
     ]
    }
   ],
   "source": [
    "#处理数据 Data160816045256.csv\n",
    "#得到train_input_256，train_output_256\n",
    "\n",
    "#生成训练数据 Data160816045256.csv\n",
    "# 0-15000/2 15001-44696/3\n",
    "train_data = []\n",
    "with open(\"Data160816045256.csv\",\"rb\") as f:\n",
    "    for line in f:\n",
    "        temp = []\n",
    "        line = line.strip().split(' ')\n",
    "        temp = [float(x) for x in line]\n",
    "        train_data.append(temp)\n",
    "\n",
    "#将数据每20维合成一个训练样本\n",
    "sequence_len = 20\n",
    "train_input_256 = []     #44657 * 20 * 9\n",
    "\n",
    "for i in range(0,15000-sequence_len+1):  #14981\n",
    "    temp = []\n",
    "    for j  in range(sequence_len):\n",
    "        temp.append(train_data[i+j])\n",
    "    train_input_256.append(temp)  \n",
    "# print len(train_input_256)\n",
    "\n",
    "for i in range(15001,44696-sequence_len+1):  #29676\n",
    "    temp = []\n",
    "    for j  in range(sequence_len):\n",
    "        temp.append(train_data[i+j])\n",
    "    train_input_256.append(temp)  \n",
    "# print len(train_input_256)\n",
    "\n",
    "#生成数据标签  \n",
    "# 0-15000/2 15001-44696/3\n",
    "train_output_256 = []   #14981 * 2\n",
    "for i in range(0,14981):\n",
    "    temp = []\n",
    "    temp.append(0)\n",
    "    temp.append(1)\n",
    "    temp.append(0)\n",
    "    train_output_256.append(temp)\n",
    "    \n",
    "for i in range(14981,44657):\n",
    "    temp = []\n",
    "    temp.append(0)\n",
    "    temp.append(0)\n",
    "    temp.append(1)\n",
    "    train_output_256.append(temp)\n",
    "    \n",
    "print \"train_input_256: \",len(train_input_256)\n",
    "print \"train_output_256: \",len(train_output_256)"
   ]
  },
  {
   "cell_type": "code",
   "execution_count": 5,
   "metadata": {
    "collapsed": false
   },
   "outputs": [
    {
     "name": "stdout",
     "output_type": "stream",
     "text": [
      "train_input_341:  66564\n",
      "train_output_341:  66564\n"
     ]
    }
   ],
   "source": [
    "#处理数据 Data160816070341.csv\n",
    "#得到train_input_341，train_output_341\n",
    "\n",
    "#生成训练数据 Data160816045256.csv\n",
    "# 0-66583/1 \n",
    "train_data = []\n",
    "with open(\"Data160816070341.csv\",\"rb\") as f:\n",
    "    for line in f:\n",
    "        temp = []\n",
    "        line = line.strip().split(' ')\n",
    "        temp = [float(x) for x in line]\n",
    "        train_data.append(temp)\n",
    "# print len(train_data)\n",
    "\n",
    "#将数据每20维合成一个训练样本\n",
    "sequence_len = 20\n",
    "train_input_341 = []     #66564 * 20 * 9\n",
    "for i in range(0,66583-sequence_len+1):  #14981\n",
    "    temp = []\n",
    "    for j  in range(sequence_len):\n",
    "        temp.append(train_data[i+j])\n",
    "    train_input_341.append(temp)  \n",
    "# print len(train_input_341)\n",
    "\n",
    "#生成数据标签  \n",
    "# 0-66583/1 \n",
    "train_output_341 = []   #66564 * 1\n",
    "for i in range(0,66564):\n",
    "    temp = []\n",
    "    temp.append(1)\n",
    "    temp.append(0)\n",
    "    temp.append(0)\n",
    "    train_output_341.append(temp)\n",
    "print \"train_input_341: \",len(train_input_341)\n",
    "print \"train_output_341: \",len(train_output_341)    "
   ]
  },
  {
   "cell_type": "code",
   "execution_count": 6,
   "metadata": {
    "collapsed": false
   },
   "outputs": [
    {
     "name": "stdout",
     "output_type": "stream",
     "text": [
      "train_input_841:  46381\n",
      "train_output_841:  46381\n",
      "train_input_449:  69651\n",
      "train_output_449:  69651\n",
      "train_input_256:  44657\n",
      "train_output_256:  44657\n",
      "train_input_341:  66564\n",
      "train_output_341:  66564\n"
     ]
    }
   ],
   "source": [
    "#显示四个数据集的样本数\n",
    "# \"Data161009110841.tsv\"\n",
    "# \"Data161009015449.tsv\"\n",
    "# \"Data160816045256.tsv\"\n",
    "# \"Data160816070341.tsv\"\n",
    "print \"train_input_841: \",len(train_input_841)\n",
    "print \"train_output_841: \",len(train_output_841)\n",
    "print \"train_input_449: \",len(train_input_449)\n",
    "print \"train_output_449: \",len(train_output_449)\n",
    "print \"train_input_256: \",len(train_input_256)\n",
    "print \"train_output_256: \",len(train_output_256)\n",
    "print \"train_input_341: \",len(train_input_341)\n",
    "print \"train_output_341: \",len(train_output_341)"
   ]
  },
  {
   "cell_type": "code",
   "execution_count": 7,
   "metadata": {
    "collapsed": false
   },
   "outputs": [
    {
     "name": "stdout",
     "output_type": "stream",
     "text": [
      "182596\n"
     ]
    }
   ],
   "source": [
    "#数据集合并\n",
    "train_input = train_input_841 + train_input_449+train_input_341\n",
    "train_output = train_output_841 + train_output_449+train_output_341\n",
    "print len(train_input)\n",
    "\n",
    "#将数据集中的数据混合打乱\n",
    "index = [i for i in range(len(train_input))]    \n",
    "random.shuffle(index)   \n",
    "train_input1 = []\n",
    "train_output1 = []\n",
    "for i in index:\n",
    "    train_input1.append(train_input[i])\n",
    "    train_output1.append(train_output[i]) \n",
    "\n",
    "#分训练数据及测试数据(4:1)\n",
    "NUM_EXAMPLES = len(train_input)/5\n",
    "train_input = train_input1[NUM_EXAMPLES:]\n",
    "train_output = train_output1[NUM_EXAMPLES:] #everything beyond 10,000\n",
    "test_input = train_input1[:NUM_EXAMPLES]\n",
    "test_output = train_output1[:NUM_EXAMPLES] #till 10,000"
   ]
  },
  {
   "cell_type": "code",
   "execution_count": 8,
   "metadata": {
    "collapsed": false,
    "scrolled": true
   },
   "outputs": [
    {
     "name": "stderr",
     "output_type": "stream",
     "text": [
      "/tools/anaconda2/envs/tensorflow/lib/python2.7/site-packages/tensorflow/python/ops/gradients.py:90: UserWarning: Converting sparse IndexedSlices to a dense Tensor of unknown shape. This may consume a large amount of memory.\n",
      "  \"Converting sparse IndexedSlices to a dense Tensor of unknown shape. \"\n"
     ]
    },
    {
     "name": "stdout",
     "output_type": "stream",
     "text": [
      "Epoch  0\n",
      "Epoch  50\n",
      "Epoch  100\n",
      "Epoch  150\n",
      "Epoch  200\n",
      "Epoch  250\n",
      "Epoch  300\n",
      "Epoch  350\n",
      "Epoch  400\n",
      "Epoch  450\n",
      "Epoch  500\n",
      "Epoch  550\n",
      "Epoch  600\n",
      "Epoch  650\n",
      "Epoch  700\n",
      "Epoch  750\n",
      "Epoch  800\n",
      "Epoch  850\n",
      "Epoch  900\n",
      "Epoch  950\n"
     ]
    }
   ],
   "source": [
    "#rnn\n",
    "import tensorflow as tf\n",
    "#输入输出数据\n",
    "data = tf.placeholder(tf.float32, [None, 20,9]) #Number of examples, number of input, dimension of each input\n",
    "target = tf.placeholder(tf.float32, [None, 3])\n",
    "\n",
    "num_hidden = 24     \n",
    "cell = tf.nn.rnn_cell.LSTMCell(num_hidden,state_is_tuple=True)\n",
    "val, _ = tf.nn.dynamic_rnn(cell, data, dtype=tf.float32)\n",
    "val = tf.transpose(val, [1, 0, 2])\n",
    "last = tf.gather(val, int(val.get_shape()[0]) - 1)\n",
    "\n",
    "weight = tf.Variable(tf.truncated_normal([num_hidden, int(target.get_shape()[1])]))\n",
    "bias = tf.Variable(tf.constant(0.1, shape=[target.get_shape()[1]]))\n",
    "prediction = tf.nn.softmax(tf.matmul(last, weight) + bias)\n",
    "cross_entropy = -tf.reduce_sum(target * tf.log(prediction))   #误差函数\n",
    "optimizer = tf.train.AdamOptimizer()\n",
    "minimize = optimizer.minimize(cross_entropy)\n",
    "mistakes = tf.not_equal(tf.argmax(target, 1), tf.argmax(prediction, 1))\n",
    "error = tf.reduce_mean(tf.cast(mistakes, tf.float32))\n",
    "\n",
    "#模型参数初始化\n",
    "init_op = tf.initialize_all_variables()\n",
    "sess = tf.Session()\n",
    "sess.run(init_op)\n",
    "\n",
    "#训练参数\n",
    "batch_size = 1000\n",
    "no_of_batches = int(len(train_input)) / batch_size\n",
    "epoch = 1000\n",
    "\n",
    "for i in range(epoch):\n",
    "    ptr = 0\n",
    "    for j in range(no_of_batches):\n",
    "        inp, out = train_input[ptr:ptr+batch_size], train_output[ptr:ptr+batch_size]\n",
    "        ptr+=batch_size\n",
    "        sess.run(minimize,{data: inp, target: out})\n",
    "    \n",
    "    if i%50 ==0:\n",
    "        print \"Epoch \",str(i)"
   ]
  },
  {
   "cell_type": "code",
   "execution_count": 11,
   "metadata": {
    "collapsed": false
   },
   "outputs": [
    {
     "ename": "ResourceExhaustedError",
     "evalue": "OOM when allocating tensor with shape[36519,96]\n\t [[Node: RNN/while/LSTMCell/BiasAdd = BiasAdd[T=DT_FLOAT, data_format=\"NHWC\", _device=\"/job:localhost/replica:0/task:0/gpu:0\"](RNN/while/LSTMCell/MatMul, RNN/while/LSTMCell/BiasAdd/Enter)]]\n\t [[Node: Mean/_146023 = _Recv[client_terminated=false, recv_device=\"/job:localhost/replica:0/task:0/cpu:0\", send_device=\"/job:localhost/replica:0/task:0/gpu:0\", send_device_incarnation=1, tensor_name=\"edge_123_Mean\", tensor_type=DT_FLOAT, _device=\"/job:localhost/replica:0/task:0/cpu:0\"]()]]\nCaused by op u'RNN/while/LSTMCell/BiasAdd', defined at:\n  File \"/tools/anaconda2/envs/tensorflow/lib/python2.7/runpy.py\", line 174, in _run_module_as_main\n    \"__main__\", fname, loader, pkg_name)\n  File \"/tools/anaconda2/envs/tensorflow/lib/python2.7/runpy.py\", line 72, in _run_code\n    exec code in run_globals\n  File \"/tools/anaconda2/envs/tensorflow/lib/python2.7/site-packages/ipykernel/__main__.py\", line 3, in <module>\n    app.launch_new_instance()\n  File \"/tools/anaconda2/envs/tensorflow/lib/python2.7/site-packages/traitlets/config/application.py\", line 658, in launch_instance\n    app.start()\n  File \"/tools/anaconda2/envs/tensorflow/lib/python2.7/site-packages/ipykernel/kernelapp.py\", line 474, in start\n    ioloop.IOLoop.instance().start()\n  File \"/tools/anaconda2/envs/tensorflow/lib/python2.7/site-packages/zmq/eventloop/ioloop.py\", line 177, in start\n    super(ZMQIOLoop, self).start()\n  File \"/tools/anaconda2/envs/tensorflow/lib/python2.7/site-packages/tornado/ioloop.py\", line 887, in start\n    handler_func(fd_obj, events)\n  File \"/tools/anaconda2/envs/tensorflow/lib/python2.7/site-packages/tornado/stack_context.py\", line 275, in null_wrapper\n    return fn(*args, **kwargs)\n  File \"/tools/anaconda2/envs/tensorflow/lib/python2.7/site-packages/zmq/eventloop/zmqstream.py\", line 440, in _handle_events\n    self._handle_recv()\n  File \"/tools/anaconda2/envs/tensorflow/lib/python2.7/site-packages/zmq/eventloop/zmqstream.py\", line 472, in _handle_recv\n    self._run_callback(callback, msg)\n  File \"/tools/anaconda2/envs/tensorflow/lib/python2.7/site-packages/zmq/eventloop/zmqstream.py\", line 414, in _run_callback\n    callback(*args, **kwargs)\n  File \"/tools/anaconda2/envs/tensorflow/lib/python2.7/site-packages/tornado/stack_context.py\", line 275, in null_wrapper\n    return fn(*args, **kwargs)\n  File \"/tools/anaconda2/envs/tensorflow/lib/python2.7/site-packages/ipykernel/kernelbase.py\", line 276, in dispatcher\n    return self.dispatch_shell(stream, msg)\n  File \"/tools/anaconda2/envs/tensorflow/lib/python2.7/site-packages/ipykernel/kernelbase.py\", line 228, in dispatch_shell\n    handler(stream, idents, msg)\n  File \"/tools/anaconda2/envs/tensorflow/lib/python2.7/site-packages/ipykernel/kernelbase.py\", line 390, in execute_request\n    user_expressions, allow_stdin)\n  File \"/tools/anaconda2/envs/tensorflow/lib/python2.7/site-packages/ipykernel/ipkernel.py\", line 196, in do_execute\n    res = shell.run_cell(code, store_history=store_history, silent=silent)\n  File \"/tools/anaconda2/envs/tensorflow/lib/python2.7/site-packages/ipykernel/zmqshell.py\", line 501, in run_cell\n    return super(ZMQInteractiveShell, self).run_cell(*args, **kwargs)\n  File \"/tools/anaconda2/envs/tensorflow/lib/python2.7/site-packages/IPython/core/interactiveshell.py\", line 2717, in run_cell\n    interactivity=interactivity, compiler=compiler, result=result)\n  File \"/tools/anaconda2/envs/tensorflow/lib/python2.7/site-packages/IPython/core/interactiveshell.py\", line 2821, in run_ast_nodes\n    if self.run_code(code, result):\n  File \"/tools/anaconda2/envs/tensorflow/lib/python2.7/site-packages/IPython/core/interactiveshell.py\", line 2881, in run_code\n    exec(code_obj, self.user_global_ns, self.user_ns)\n  File \"<ipython-input-8-75bcb527af67>\", line 9, in <module>\n    val, _ = tf.nn.dynamic_rnn(cell, data, dtype=tf.float32)\n  File \"/tools/anaconda2/envs/tensorflow/lib/python2.7/site-packages/tensorflow/python/ops/rnn.py\", line 830, in dynamic_rnn\n    dtype=dtype)\n  File \"/tools/anaconda2/envs/tensorflow/lib/python2.7/site-packages/tensorflow/python/ops/rnn.py\", line 997, in _dynamic_rnn_loop\n    swap_memory=swap_memory)\n  File \"/tools/anaconda2/envs/tensorflow/lib/python2.7/site-packages/tensorflow/python/ops/control_flow_ops.py\", line 1973, in while_loop\n    result = context.BuildLoop(cond, body, loop_vars)\n  File \"/tools/anaconda2/envs/tensorflow/lib/python2.7/site-packages/tensorflow/python/ops/control_flow_ops.py\", line 1860, in BuildLoop\n    pred, body, original_loop_vars, loop_vars)\n  File \"/tools/anaconda2/envs/tensorflow/lib/python2.7/site-packages/tensorflow/python/ops/control_flow_ops.py\", line 1810, in _BuildLoop\n    body_result = body(*packed_vars_for_body)\n  File \"/tools/anaconda2/envs/tensorflow/lib/python2.7/site-packages/tensorflow/python/ops/rnn.py\", line 982, in _time_step\n    (output, new_state) = call_cell()\n  File \"/tools/anaconda2/envs/tensorflow/lib/python2.7/site-packages/tensorflow/python/ops/rnn.py\", line 968, in <lambda>\n    call_cell = lambda: cell(input_t, state)\n  File \"/tools/anaconda2/envs/tensorflow/lib/python2.7/site-packages/tensorflow/python/ops/rnn_cell.py\", line 497, in __call__\n    lstm_matrix = nn_ops.bias_add(math_ops.matmul(cell_inputs, concat_w), b)\n  File \"/tools/anaconda2/envs/tensorflow/lib/python2.7/site-packages/tensorflow/python/ops/nn_ops.py\", line 391, in bias_add\n    return gen_nn_ops._bias_add(value, bias, data_format=data_format, name=name)\n  File \"/tools/anaconda2/envs/tensorflow/lib/python2.7/site-packages/tensorflow/python/ops/gen_nn_ops.py\", line 279, in _bias_add\n    data_format=data_format, name=name)\n  File \"/tools/anaconda2/envs/tensorflow/lib/python2.7/site-packages/tensorflow/python/framework/op_def_library.py\", line 703, in apply_op\n    op_def=op_def)\n  File \"/tools/anaconda2/envs/tensorflow/lib/python2.7/site-packages/tensorflow/python/framework/ops.py\", line 2310, in create_op\n    original_op=self._default_original_op, op_def=op_def)\n  File \"/tools/anaconda2/envs/tensorflow/lib/python2.7/site-packages/tensorflow/python/framework/ops.py\", line 1232, in __init__\n    self._traceback = _extract_stack()\n",
     "output_type": "error",
     "traceback": [
      "\u001b[0;31m---------------------------------------------------------------------------\u001b[0m",
      "\u001b[0;31mResourceExhaustedError\u001b[0m                    Traceback (most recent call last)",
      "\u001b[0;32m<ipython-input-11-c084173d5919>\u001b[0m in \u001b[0;36m<module>\u001b[0;34m()\u001b[0m\n\u001b[0;32m----> 1\u001b[0;31m \u001b[0mincorrect\u001b[0m \u001b[0;34m=\u001b[0m \u001b[0msess\u001b[0m\u001b[0;34m.\u001b[0m\u001b[0mrun\u001b[0m\u001b[0;34m(\u001b[0m\u001b[0merror\u001b[0m\u001b[0;34m,\u001b[0m\u001b[0;34m{\u001b[0m\u001b[0mdata\u001b[0m\u001b[0;34m:\u001b[0m \u001b[0mtest_input\u001b[0m\u001b[0;34m,\u001b[0m \u001b[0mtarget\u001b[0m\u001b[0;34m:\u001b[0m \u001b[0mtest_output\u001b[0m\u001b[0;34m}\u001b[0m\u001b[0;34m)\u001b[0m\u001b[0;34m\u001b[0m\u001b[0m\n\u001b[0m\u001b[1;32m      2\u001b[0m \u001b[0;32mprint\u001b[0m \u001b[0msess\u001b[0m\u001b[0;34m.\u001b[0m\u001b[0mrun\u001b[0m\u001b[0;34m(\u001b[0m\u001b[0mprediction\u001b[0m\u001b[0;34m,\u001b[0m\u001b[0;34m{\u001b[0m\u001b[0mdata\u001b[0m\u001b[0;34m:\u001b[0m \u001b[0mtrain_input\u001b[0m\u001b[0;34m[\u001b[0m\u001b[0;34m-\u001b[0m\u001b[0;36m10\u001b[0m\u001b[0;34m:\u001b[0m\u001b[0;34m-\u001b[0m\u001b[0;36m1\u001b[0m\u001b[0;34m]\u001b[0m\u001b[0;34m}\u001b[0m\u001b[0;34m)\u001b[0m\u001b[0;34m\u001b[0m\u001b[0m\n\u001b[1;32m      3\u001b[0m \u001b[0;32mprint\u001b[0m \u001b[0mtrain_output\u001b[0m\u001b[0;34m[\u001b[0m\u001b[0;34m-\u001b[0m\u001b[0;36m10\u001b[0m\u001b[0;34m:\u001b[0m\u001b[0;34m-\u001b[0m\u001b[0;36m1\u001b[0m\u001b[0;34m]\u001b[0m\u001b[0;34m\u001b[0m\u001b[0m\n\u001b[1;32m      4\u001b[0m \u001b[0;32mprint\u001b[0m\u001b[0;34m(\u001b[0m\u001b[0;34m'Epoch {:2d} error {:3.1f}%'\u001b[0m\u001b[0;34m.\u001b[0m\u001b[0mformat\u001b[0m\u001b[0;34m(\u001b[0m\u001b[0mi\u001b[0m \u001b[0;34m+\u001b[0m \u001b[0;36m1\u001b[0m\u001b[0;34m,\u001b[0m \u001b[0;36m100\u001b[0m \u001b[0;34m*\u001b[0m \u001b[0mincorrect\u001b[0m\u001b[0;34m)\u001b[0m\u001b[0;34m)\u001b[0m\u001b[0;34m\u001b[0m\u001b[0m\n",
      "\u001b[0;32m/tools/anaconda2/envs/tensorflow/lib/python2.7/site-packages/tensorflow/python/client/session.pyc\u001b[0m in \u001b[0;36mrun\u001b[0;34m(self, fetches, feed_dict, options, run_metadata)\u001b[0m\n\u001b[1;32m    380\u001b[0m     \u001b[0;32mtry\u001b[0m\u001b[0;34m:\u001b[0m\u001b[0;34m\u001b[0m\u001b[0m\n\u001b[1;32m    381\u001b[0m       result = self._run(None, fetches, feed_dict, options_ptr,\n\u001b[0;32m--> 382\u001b[0;31m                          run_metadata_ptr)\n\u001b[0m\u001b[1;32m    383\u001b[0m       \u001b[0;32mif\u001b[0m \u001b[0mrun_metadata\u001b[0m\u001b[0;34m:\u001b[0m\u001b[0;34m\u001b[0m\u001b[0m\n\u001b[1;32m    384\u001b[0m         \u001b[0mproto_data\u001b[0m \u001b[0;34m=\u001b[0m \u001b[0mtf_session\u001b[0m\u001b[0;34m.\u001b[0m\u001b[0mTF_GetBuffer\u001b[0m\u001b[0;34m(\u001b[0m\u001b[0mrun_metadata_ptr\u001b[0m\u001b[0;34m)\u001b[0m\u001b[0;34m\u001b[0m\u001b[0m\n",
      "\u001b[0;32m/tools/anaconda2/envs/tensorflow/lib/python2.7/site-packages/tensorflow/python/client/session.pyc\u001b[0m in \u001b[0;36m_run\u001b[0;34m(self, handle, fetches, feed_dict, options, run_metadata)\u001b[0m\n\u001b[1;32m    653\u001b[0m     \u001b[0mmovers\u001b[0m \u001b[0;34m=\u001b[0m \u001b[0mself\u001b[0m\u001b[0;34m.\u001b[0m\u001b[0m_update_with_movers\u001b[0m\u001b[0;34m(\u001b[0m\u001b[0mfeed_dict_string\u001b[0m\u001b[0;34m,\u001b[0m \u001b[0mfeed_map\u001b[0m\u001b[0;34m)\u001b[0m\u001b[0;34m\u001b[0m\u001b[0m\n\u001b[1;32m    654\u001b[0m     results = self._do_run(handle, target_list, unique_fetches,\n\u001b[0;32m--> 655\u001b[0;31m                            feed_dict_string, options, run_metadata)\n\u001b[0m\u001b[1;32m    656\u001b[0m \u001b[0;34m\u001b[0m\u001b[0m\n\u001b[1;32m    657\u001b[0m     \u001b[0;31m# User may have fetched the same tensor multiple times, but we\u001b[0m\u001b[0;34m\u001b[0m\u001b[0;34m\u001b[0m\u001b[0m\n",
      "\u001b[0;32m/tools/anaconda2/envs/tensorflow/lib/python2.7/site-packages/tensorflow/python/client/session.pyc\u001b[0m in \u001b[0;36m_do_run\u001b[0;34m(self, handle, target_list, fetch_list, feed_dict, options, run_metadata)\u001b[0m\n\u001b[1;32m    721\u001b[0m     \u001b[0;32mif\u001b[0m \u001b[0mhandle\u001b[0m \u001b[0;32mis\u001b[0m \u001b[0mNone\u001b[0m\u001b[0;34m:\u001b[0m\u001b[0;34m\u001b[0m\u001b[0m\n\u001b[1;32m    722\u001b[0m       return self._do_call(_run_fn, self._session, feed_dict, fetch_list,\n\u001b[0;32m--> 723\u001b[0;31m                            target_list, options, run_metadata)\n\u001b[0m\u001b[1;32m    724\u001b[0m     \u001b[0;32melse\u001b[0m\u001b[0;34m:\u001b[0m\u001b[0;34m\u001b[0m\u001b[0m\n\u001b[1;32m    725\u001b[0m       return self._do_call(_prun_fn, self._session, handle, feed_dict,\n",
      "\u001b[0;32m/tools/anaconda2/envs/tensorflow/lib/python2.7/site-packages/tensorflow/python/client/session.pyc\u001b[0m in \u001b[0;36m_do_call\u001b[0;34m(self, fn, *args)\u001b[0m\n\u001b[1;32m    741\u001b[0m         \u001b[0;32mexcept\u001b[0m \u001b[0mKeyError\u001b[0m\u001b[0;34m:\u001b[0m\u001b[0;34m\u001b[0m\u001b[0m\n\u001b[1;32m    742\u001b[0m           \u001b[0;32mpass\u001b[0m\u001b[0;34m\u001b[0m\u001b[0m\n\u001b[0;32m--> 743\u001b[0;31m       \u001b[0;32mraise\u001b[0m \u001b[0mtype\u001b[0m\u001b[0;34m(\u001b[0m\u001b[0me\u001b[0m\u001b[0;34m)\u001b[0m\u001b[0;34m(\u001b[0m\u001b[0mnode_def\u001b[0m\u001b[0;34m,\u001b[0m \u001b[0mop\u001b[0m\u001b[0;34m,\u001b[0m \u001b[0mmessage\u001b[0m\u001b[0;34m)\u001b[0m\u001b[0;34m\u001b[0m\u001b[0m\n\u001b[0m\u001b[1;32m    744\u001b[0m \u001b[0;34m\u001b[0m\u001b[0m\n\u001b[1;32m    745\u001b[0m   \u001b[0;32mdef\u001b[0m \u001b[0m_extend_graph\u001b[0m\u001b[0;34m(\u001b[0m\u001b[0mself\u001b[0m\u001b[0;34m)\u001b[0m\u001b[0;34m:\u001b[0m\u001b[0;34m\u001b[0m\u001b[0m\n",
      "\u001b[0;31mResourceExhaustedError\u001b[0m: OOM when allocating tensor with shape[36519,96]\n\t [[Node: RNN/while/LSTMCell/BiasAdd = BiasAdd[T=DT_FLOAT, data_format=\"NHWC\", _device=\"/job:localhost/replica:0/task:0/gpu:0\"](RNN/while/LSTMCell/MatMul, RNN/while/LSTMCell/BiasAdd/Enter)]]\n\t [[Node: Mean/_146023 = _Recv[client_terminated=false, recv_device=\"/job:localhost/replica:0/task:0/cpu:0\", send_device=\"/job:localhost/replica:0/task:0/gpu:0\", send_device_incarnation=1, tensor_name=\"edge_123_Mean\", tensor_type=DT_FLOAT, _device=\"/job:localhost/replica:0/task:0/cpu:0\"]()]]\nCaused by op u'RNN/while/LSTMCell/BiasAdd', defined at:\n  File \"/tools/anaconda2/envs/tensorflow/lib/python2.7/runpy.py\", line 174, in _run_module_as_main\n    \"__main__\", fname, loader, pkg_name)\n  File \"/tools/anaconda2/envs/tensorflow/lib/python2.7/runpy.py\", line 72, in _run_code\n    exec code in run_globals\n  File \"/tools/anaconda2/envs/tensorflow/lib/python2.7/site-packages/ipykernel/__main__.py\", line 3, in <module>\n    app.launch_new_instance()\n  File \"/tools/anaconda2/envs/tensorflow/lib/python2.7/site-packages/traitlets/config/application.py\", line 658, in launch_instance\n    app.start()\n  File \"/tools/anaconda2/envs/tensorflow/lib/python2.7/site-packages/ipykernel/kernelapp.py\", line 474, in start\n    ioloop.IOLoop.instance().start()\n  File \"/tools/anaconda2/envs/tensorflow/lib/python2.7/site-packages/zmq/eventloop/ioloop.py\", line 177, in start\n    super(ZMQIOLoop, self).start()\n  File \"/tools/anaconda2/envs/tensorflow/lib/python2.7/site-packages/tornado/ioloop.py\", line 887, in start\n    handler_func(fd_obj, events)\n  File \"/tools/anaconda2/envs/tensorflow/lib/python2.7/site-packages/tornado/stack_context.py\", line 275, in null_wrapper\n    return fn(*args, **kwargs)\n  File \"/tools/anaconda2/envs/tensorflow/lib/python2.7/site-packages/zmq/eventloop/zmqstream.py\", line 440, in _handle_events\n    self._handle_recv()\n  File \"/tools/anaconda2/envs/tensorflow/lib/python2.7/site-packages/zmq/eventloop/zmqstream.py\", line 472, in _handle_recv\n    self._run_callback(callback, msg)\n  File \"/tools/anaconda2/envs/tensorflow/lib/python2.7/site-packages/zmq/eventloop/zmqstream.py\", line 414, in _run_callback\n    callback(*args, **kwargs)\n  File \"/tools/anaconda2/envs/tensorflow/lib/python2.7/site-packages/tornado/stack_context.py\", line 275, in null_wrapper\n    return fn(*args, **kwargs)\n  File \"/tools/anaconda2/envs/tensorflow/lib/python2.7/site-packages/ipykernel/kernelbase.py\", line 276, in dispatcher\n    return self.dispatch_shell(stream, msg)\n  File \"/tools/anaconda2/envs/tensorflow/lib/python2.7/site-packages/ipykernel/kernelbase.py\", line 228, in dispatch_shell\n    handler(stream, idents, msg)\n  File \"/tools/anaconda2/envs/tensorflow/lib/python2.7/site-packages/ipykernel/kernelbase.py\", line 390, in execute_request\n    user_expressions, allow_stdin)\n  File \"/tools/anaconda2/envs/tensorflow/lib/python2.7/site-packages/ipykernel/ipkernel.py\", line 196, in do_execute\n    res = shell.run_cell(code, store_history=store_history, silent=silent)\n  File \"/tools/anaconda2/envs/tensorflow/lib/python2.7/site-packages/ipykernel/zmqshell.py\", line 501, in run_cell\n    return super(ZMQInteractiveShell, self).run_cell(*args, **kwargs)\n  File \"/tools/anaconda2/envs/tensorflow/lib/python2.7/site-packages/IPython/core/interactiveshell.py\", line 2717, in run_cell\n    interactivity=interactivity, compiler=compiler, result=result)\n  File \"/tools/anaconda2/envs/tensorflow/lib/python2.7/site-packages/IPython/core/interactiveshell.py\", line 2821, in run_ast_nodes\n    if self.run_code(code, result):\n  File \"/tools/anaconda2/envs/tensorflow/lib/python2.7/site-packages/IPython/core/interactiveshell.py\", line 2881, in run_code\n    exec(code_obj, self.user_global_ns, self.user_ns)\n  File \"<ipython-input-8-75bcb527af67>\", line 9, in <module>\n    val, _ = tf.nn.dynamic_rnn(cell, data, dtype=tf.float32)\n  File \"/tools/anaconda2/envs/tensorflow/lib/python2.7/site-packages/tensorflow/python/ops/rnn.py\", line 830, in dynamic_rnn\n    dtype=dtype)\n  File \"/tools/anaconda2/envs/tensorflow/lib/python2.7/site-packages/tensorflow/python/ops/rnn.py\", line 997, in _dynamic_rnn_loop\n    swap_memory=swap_memory)\n  File \"/tools/anaconda2/envs/tensorflow/lib/python2.7/site-packages/tensorflow/python/ops/control_flow_ops.py\", line 1973, in while_loop\n    result = context.BuildLoop(cond, body, loop_vars)\n  File \"/tools/anaconda2/envs/tensorflow/lib/python2.7/site-packages/tensorflow/python/ops/control_flow_ops.py\", line 1860, in BuildLoop\n    pred, body, original_loop_vars, loop_vars)\n  File \"/tools/anaconda2/envs/tensorflow/lib/python2.7/site-packages/tensorflow/python/ops/control_flow_ops.py\", line 1810, in _BuildLoop\n    body_result = body(*packed_vars_for_body)\n  File \"/tools/anaconda2/envs/tensorflow/lib/python2.7/site-packages/tensorflow/python/ops/rnn.py\", line 982, in _time_step\n    (output, new_state) = call_cell()\n  File \"/tools/anaconda2/envs/tensorflow/lib/python2.7/site-packages/tensorflow/python/ops/rnn.py\", line 968, in <lambda>\n    call_cell = lambda: cell(input_t, state)\n  File \"/tools/anaconda2/envs/tensorflow/lib/python2.7/site-packages/tensorflow/python/ops/rnn_cell.py\", line 497, in __call__\n    lstm_matrix = nn_ops.bias_add(math_ops.matmul(cell_inputs, concat_w), b)\n  File \"/tools/anaconda2/envs/tensorflow/lib/python2.7/site-packages/tensorflow/python/ops/nn_ops.py\", line 391, in bias_add\n    return gen_nn_ops._bias_add(value, bias, data_format=data_format, name=name)\n  File \"/tools/anaconda2/envs/tensorflow/lib/python2.7/site-packages/tensorflow/python/ops/gen_nn_ops.py\", line 279, in _bias_add\n    data_format=data_format, name=name)\n  File \"/tools/anaconda2/envs/tensorflow/lib/python2.7/site-packages/tensorflow/python/framework/op_def_library.py\", line 703, in apply_op\n    op_def=op_def)\n  File \"/tools/anaconda2/envs/tensorflow/lib/python2.7/site-packages/tensorflow/python/framework/ops.py\", line 2310, in create_op\n    original_op=self._default_original_op, op_def=op_def)\n  File \"/tools/anaconda2/envs/tensorflow/lib/python2.7/site-packages/tensorflow/python/framework/ops.py\", line 1232, in __init__\n    self._traceback = _extract_stack()\n"
     ]
    }
   ],
   "source": [
    "incorrect = sess.run(error,{data: test_input, target: test_output})\n",
    "print sess.run(prediction,{data: train_input[-10:-1]})\n",
    "print train_output[-10:-1]\n",
    "print('Epoch {:2d} error {:3.1f}%'.format(i + 1, 100 * incorrect))"
   ]
  },
  {
   "cell_type": "code",
   "execution_count": null,
   "metadata": {
    "collapsed": true
   },
   "outputs": [],
   "source": [
    "sess.close()"
   ]
  }
 ],
 "metadata": {
  "anaconda-cloud": {},
  "kernelspec": {
   "display_name": "Python 2",
   "language": "python",
   "name": "python2"
  },
  "language_info": {
   "codemirror_mode": {
    "name": "ipython",
    "version": 2
   },
   "file_extension": ".py",
   "mimetype": "text/x-python",
   "name": "python",
   "nbconvert_exporter": "python",
   "pygments_lexer": "ipython2",
   "version": "2.7.11"
  }
 },
 "nbformat": 4,
 "nbformat_minor": 1
}
