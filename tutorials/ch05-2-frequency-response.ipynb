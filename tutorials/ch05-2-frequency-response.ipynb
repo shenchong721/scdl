{
 "cells": [
  {
   "cell_type": "markdown",
   "metadata": {
    "slideshow": {
     "slide_type": "slide"
    },
    "teaching": {
     "lesson": "08"
    }
   },
   "source": [
    "## 5.4 频域稳定性判据 \n",
    "\n",
    "### 5.4.1 映射定理\n",
    "\n",
    "设有一复变函数为 \n",
    "$$F(s) = \\frac{{K(s - {z_1})(s - {z_2}) \\cdots (s - {z_m})}}{{(s - {p_1})(s - {p_2}) \\cdots (s - {p_n})}}\\tag{5.38}$$\n",
    "\n",
    "$s$为复变量, 以$s$复平面上的 $s=\\sigma+j\\omega$表示。$F(s)$为复变函数, 记$F(s)=U+jV$。 \n"
   ]
  },
  {
   "cell_type": "markdown",
   "metadata": {
    "slideshow": {
     "slide_type": "subslide"
    }
   },
   "source": [
    "设对于s平面上除了有限奇点之外的任一点s, 复变函数$F(s)$为解析函数, 那么, 对于s 平面上的每一解析点, 在$F(s)$平面上必定有一个对应的映射点。因此, 如果在s 平面画一条封闭曲线, 并使其不通过$F(s)$的任一奇点, 则在$F(s)$平面上必有一条对应的映射曲线, 如图5-33所示。若在s平面上的封闭曲线是沿着顺时针方向运动的, 则在$F(s)$平面上的映射曲线的运动方向可能是顺时针的, 也可能是逆时针的, 这取决于$F(s)$函数的特性。<br>\n",
    "我们感兴趣的不是映射曲线的形状, 而是它包围坐标原点的次数和运动方向, 因为这两者与系统的稳定性密切相关。 \n"
   ]
  },
  {
   "cell_type": "markdown",
   "metadata": {
    "slideshow": {
     "slide_type": "subslide"
    }
   },
   "source": [
    "<img src=\"./figs-ch05/84-1.png\" width=80% heigth=\"30\" align=center alt=\"图5-33   s平面与$F(s)$平面的映射关系\"/>\n",
    "\n"
   ]
  },
  {
   "cell_type": "markdown",
   "metadata": {
    "slideshow": {
     "slide_type": "subslide"
    }
   },
   "source": [
    "根据式(5.38), 复变函数$F(s)$的相角可表示为 \n",
    "$$\\angle F(s) = \\sum\\limits_{i = 1}^m {\\angle (s - {z_i})}  - \\sum\\limits_{j = 1}^n {\\angle (s - {p_j})} \\tag{5.39}$$\n",
    "\n",
    "假定在s平面上的封闭曲线包围了$F(s)$的一个零点z1, 而其他零极点都位于封闭曲线之外, 则当s沿着s平面上的封闭曲线顺时针方向移动一周时, 向量(s－ z1)的相角变化-2π 弧度, 而其他各相量的相角变化为零。这意味着在$F(s)$平面上的映射曲线沿顺时针方向围绕着原点旋转一周, 也就是向量$F(s)$的相角变化了-2π弧度, 如图5-34所示。若s平面上的封闭曲线包围着$F(s)$的Z个零点, 则在$F(s)$平面上的映射曲线将按顺时针方向围绕着坐标原点旋转Z周。 \n"
   ]
  },
  {
   "cell_type": "markdown",
   "metadata": {
    "slideshow": {
     "slide_type": "slide"
    }
   },
   "source": [
    "<img src=\"./figs-ch05-2/1.png\" width=\"80%\" height=\"80%\" align=\"center\" alt=\"图5-34 封闭曲线包围$z_1$时的映射情况\"/>\n",
    "\n"
   ]
  },
  {
   "cell_type": "markdown",
   "metadata": {
    "slideshow": {
     "slide_type": "subslide"
    }
   },
   "source": [
    "用类似分析方法可以推论, 若s平面上的封闭曲线包围了$F(s)$的P个极点, 则当s沿着s平面上的封闭曲线顺时针移动一周时, 在$F(s)$平面上的映射曲线将按逆时针方向围绕着原点旋转P周。   \n",
    "综上所述, 映射定理可以归纳如下:   \n",
    "映射定理  设s平面上的封闭曲线包围了复变函数$F(s)$的P个极点和Z个零点, 并且此曲线不经过$F(s)$的任一零点和极点, 则当复变量s沿封闭曲线顺时针方向移动时, 在$F(s)$平面上的映射曲线按逆时针方向包围坐标原点P-Z周。 "
   ]
  },
  {
   "cell_type": "markdown",
   "metadata": {
    "slideshow": {
     "slide_type": "subslide"
    }
   },
   "source": [
    "### 5.4.2 奈奎斯特稳定判据\n",
    "设系统的开环传递函数为     \n",
    "\n",
    "$$G(s)H(s) = \\frac{{K(s - {z_1})(s - {z_2}) \\cdots (s - {z_m})}}{{(s - {p_1})(s - {p_2}) \\cdots (s - {p_n})}}\\tag{m$\\leq$n}$$  \n",
    "\n",
    "此系统的特征方程为  \n",
    "$$1 + G(s)H(s) = F(s) = 1 + \\frac{{K(s - {z_1})(s - {z_2}) \\cdots (s - {z_m})}}{{(s - {p_1})(s - {p_2}) \\cdots (s - {p_n})}}$$  \n",
    "\n",
    "$$= \\frac{{(s - {p_1})(s - {p_2}) \\cdots (s - {p_n}) + K(s - {z_1})(s - {z_2}) \\cdots (s - {z_m})}}{{(s - {p_1})(s - {p_2}) \\cdots (s - {p_n})}}$$  \n",
    "$$= \\frac{{(s - {s_1})(s - {s_2}) \\cdots (s - {s_n})}}{{(s - {p_1})(s - {p_2}) \\cdots (s - {p_n})}}$$"
   ]
  },
  {
   "cell_type": "markdown",
   "metadata": {
    "slideshow": {
     "slide_type": "subslide"
    }
   },
   "source": [
    "<img src=\"./figs-ch05-2/2.png\" width=\"35%\" height=\"35%\" alt=\"图5-35 奈氏回线\" align=\"center\"/> \n",
    "\n"
   ]
  },
  {
   "cell_type": "markdown",
   "metadata": {
    "slideshow": {
     "slide_type": "subslide"
    }
   },
   "source": [
    "由上式可见,复变函数$F(s)$的零点为系统特征方程的根(闭环零点)$s_{1}, s_{2}, \\cdots, s_{n}$,而$F(s)$的极点则为系统的开环极点$p_{1}, p_{2}, \\cdots, p_{n}$。闭环系统稳定的充分和必要条件是, 特征方程的根,即$F(s)$的零点, 都位于s平面的左半部。   \n",
    "\n",
    "为了判断闭环系统的稳定性, 需要检验$F(s)$是否有位于s平面右半部的零点。为此可以选择一条包围整个s平面右半部的按顺时针方向运动的封闭曲线, 通常称为奈奎斯特回线, 简称*奈氏回线*, 如图5-35所示。   \n",
    "\n",
    "奈氏回线由两部分组成, 一部分是沿着虚轴由下向上移动的直线段$C_{1}$,在此线段上$s＝j\\omega$, $\\omega$由$-\\infty$变到$+\\infty$；另一部分是半径为无穷大的半圆$C_{2}$。如此定义的封闭曲线肯定包围了$F(s)$的位于s平面右半部的所有零点和极点。"
   ]
  },
  {
   "cell_type": "markdown",
   "metadata": {
    "slideshow": {
     "slide_type": "subslide"
    }
   },
   "source": [
    "设复变函数$F(s)$在s平面的右半部有Z个零点和P个极点。根据映射定理, 当s沿着s平面上的奈氏回线移动一周时, 在$F(s)$平面上的映射曲线$C_{F}=1＋G(s)H(s)$将按逆时针方向围绕坐标原点旋转$N=P－Z$周。  \n",
    "由于闭环系统稳定的充要条件是, $F(s)$在s平面右半部无零点, 即Z＝0。因此可得以下的稳定判据。"
   ]
  },
  {
   "cell_type": "markdown",
   "metadata": {
    "slideshow": {
     "slide_type": "subslide"
    }
   },
   "source": [
    "奈奎斯特稳定判据 如果在s平面上, s沿着奈氏回线顺时针方向移动一周时, 在$F(s)$平面上的映射曲线$C-{F}$围绕坐标原点按逆时针方向旋转N=P周, 则系统是稳定的。   \n",
    "根据系统闭环特征方程有  \n",
    "$$G(s)H(s)=F(s)-1\\tag{5.41}$$\n",
    "这意味着$F(s)$的映射曲线$C_{F}$围绕原点运动的情况, 相当于$G(s)H(s)$的封闭曲线$C_{GH}$围绕着$(-1, j0)$点的运动情况, 如图5-36所示。 "
   ]
  },
  {
   "cell_type": "markdown",
   "metadata": {
    "slideshow": {
     "slide_type": "subslide"
    }
   },
   "source": [
    "<img src=\"./figs-ch05-2/3.png\" width=\"80%\" align=\"center\" alt=\"图5-36 奈氏曲线映射在$F(s)$平面和G(s)H(s)平面上\"/> \n",
    "\n"
   ]
  },
  {
   "cell_type": "markdown",
   "metadata": {
    "slideshow": {
     "slide_type": "subslide"
    }
   },
   "source": [
    "绘制映射曲线$C_{GH}$的方法是:     \n",
    "\n",
    "令$s＝j\\omega$代入$G(s)H(s)$, 得到开环频率特性$G(j\\omega)H(j\\omega)$， 按前面介绍的方法画出奈氏图, 再画出其对称于实轴的$\\omega$从0变到$-\\infty$的那部分曲线。至于映射曲线上对应于$$s=\\lim_{R\\to\\infty}R\\cdot{e^{j\\theta}}$$\n",
    "的部分, 由于在实际物理系统中$m≤n$, 当$n＞m$时$G(s)H(s)$趋近于零, $n＝m$时$G(s)H(s)$为实常数。因此,只要绘制出$\\omega$从$-\\infty$变化到$+\\infty$ 的开环频率特性, 就构成了完整的映射曲线$C_{GH}$。"
   ]
  },
  {
   "cell_type": "markdown",
   "metadata": {
    "slideshow": {
     "slide_type": "subslide"
    }
   },
   "source": [
    "综上所述,可将奈氏判据表述如下: 闭环控制系统稳定的充分和必要条件是, 当$\\omega$从$－\\infty$变化到$+\\infty$时, 系统的开环频率特性$G(j\\omega)H(j\\omega)$按逆时针方向包围$(-1, j0)$点P周, P为位于s平面右半部的开环极点数目。  \n",
    "显然, 若开环系统稳定, 即位于s平面右半部的开环极点数P＝0, 则闭环系统稳定的充分和必要条件是: 系统的开环频率特性$G(j\\omega)H(j\\omega)$不包围(－1, j0)点。"
   ]
  },
  {
   "cell_type": "markdown",
   "metadata": {
    "slideshow": {
     "slide_type": "subslide"
    }
   },
   "source": [
    "例5-9 已知开环传递函数为   \n",
    "\n",
    "$$G(s)H(s) = \\frac{K}{{(s + 0.5)(s + 1)(s + 2)}}$$  \n",
    "\n",
    "试绘制(1)K=5, (2)K=10时的奈氏图, 并判断系统的稳定性。    \n",
    "\n",
    "解:  (1) 当K=5时, 开环幅频特性和相频特性分别为   \n",
    "\n",
    "$$A(\\omega ) = \\frac{5}{{\\sqrt {1 + 0.25{\\omega^2}} \\sqrt {1 + {\\omega^2}} \\sqrt {1 + 4{\\omega^2}} }}$$  \n",
    "\n",
    "$$\\phi (\\omega) =  - \\arctan 0.5\\omega  - \\arctan \\omega  - \\arctan 2\\omega$$"
   ]
  },
  {
   "cell_type": "markdown",
   "metadata": {
    "slideshow": {
     "slide_type": "subslide"
    }
   },
   "source": [
    "从而有$\\omega=0+$时,$A(\\omega)=5$, $\\phi(\\omega)=0^{\\circ}$;$\\omega=+\\infty$时,$A(\\omega)=0$,$\\phi(\\omega)=-270^{\\circ}+\\Delta$,故奈氏图在第Ⅱ象限趋向终点(0, j0)。因为相角范围为$0^{\\circ}\\sim－270^{\\circ}$,所以必有与负实轴的交点。当$\\omega=1.8$时,$\\phi(\\omega)=-177^{\\circ},A(\\omega)=0.66$;当$\\omega=1.9$时,$\\phi(\\omega)=－181,A(\\omega) =0.59$。  \n",
    "所以当$\\omega=\\omega1,1.8＜\\omega1＜1.9$时,$\\phi(\\omega)=－180^{\\circ},A(\\omega)=A1,0.59＜A1＜0.66$,因此与实轴的交点在(－1, j0)点的右侧。奈氏图如图5-37所示。因为s平面右半部的开环极点数P＝0,且奈氏曲线不包围(－1, j0)点, 即$N = 0$,则$Z=P－N =0$,所以系统稳定。 "
   ]
  },
  {
   "cell_type": "markdown",
   "metadata": {
    "slideshow": {
     "slide_type": "subslide"
    }
   },
   "source": [
    "(2)当K=10时, 奈氏图形状与(1)相同, 只是以坐标原点为中心, 向外“膨胀”而已。“膨胀”的倍数为10/5=2,故与实轴的交点的横坐标在(－0.59×2, －0.66×2)之间, 即交点在(－1, j0)点的左侧。因为s平面右半部的开环极点数$P＝0$, 且奈氏曲线顺时针包围(－1, j0)点2次, 即$N=－2$, 则$Z＝P－N=2$, 所以系统不稳定, 有两个闭环极点在$s$平面右半部。  \n",
    "用MATLAB绘制的奈氏图如图 5-38 所示，其程序如下：  \n",
    "\n",
    "$$nyquist(［5］, conv(conv(［1 0.5］, ［1 1］), ［1 2］))$$"
   ]
  },
  {
   "cell_type": "markdown",
   "metadata": {
    "slideshow": {
     "slide_type": "subslide"
    }
   },
   "source": [
    "<img src=\"./figs-ch05-2/4.png\" width=\"40%\" height=\"40%\" align=\"center\" alt=\"图5-37 例5-9的奈氏图\"/>\n",
    "\n"
   ]
  },
  {
   "cell_type": "markdown",
   "metadata": {
    "slideshow": {
     "slide_type": "subslide"
    }
   },
   "source": [
    "<img src=\"./figs-ch05-2/5.png\" width=\"40%\" height=\"40%\" align=\"center\" alt=\"图5-38 MATLAB绘制 例5-9 的奈氏图\"/> \n",
    "\n"
   ]
  },
  {
   "cell_type": "markdown",
   "metadata": {
    "slideshow": {
     "slide_type": "subslide"
    }
   },
   "source": [
    "### 5.4.3 虚轴上有开环极点时的奈氏判据\n",
    "虚轴上有开环极点的情况通常出现在系统中有串联积分环节的时候, 即在s平面的坐标原点有开环极点。这时不能直接应用图5-35所示的奈氏回线, 因为映射定理要求此回线不经过$F(s)$的奇点。   \n",
    "为了在这种情况下应用奈氏判据, 可以选择图5-39所示的奈氏回线它与图5-35中奈氏回线的区别仅在于, 此回线经过以坐标原点为圆心, 以无穷小量$\\epsilon$为半径的, 在s平面右半部的小半圆 ,绕过了开环极点所在的原点。当ε→0时,此小半圆的面积也趋近于零。因此, $F(s)$的位于s平面右半部的零点和极点均被此奈氏回线包围在内， 而将位于坐标原点处的开环极点划到了左半部。这样处理是为了适应奈氏判据的要求, 因为应用奈氏判据时必须首先明确位于s平面右半部和左半部的开环极点的数目。"
   ]
  },
  {
   "cell_type": "markdown",
   "metadata": {
    "slideshow": {
     "slide_type": "subslide"
    }
   },
   "source": [
    "<img src=\"./figs-ch05-2/6.png\" width=\"30%\" height=\"30%\" align=\"center\" alt=\"图5-39 虚轴上有极点的奈氏回线\"/>  \n",
    "\n"
   ]
  },
  {
   "cell_type": "markdown",
   "metadata": {
    "slideshow": {
     "slide_type": "subslide"
    }
   },
   "source": [
    "当s沿着上述小半圆移动时,有   \n",
    "$$s = \\mathop {\\lim }\\limits_{\\varepsilon  \\to 0} \\varepsilon {e^{j\\theta }}$$  \n",
    "\n",
    "当$\\omega$从0-沿小半圆变到0+时,s按逆时针方向旋转了180°, G(s)H(s)在其平面上的映射为   \n",
    "\n",
    "$$G(s)H(s){|_{s = \\mathop {\\lim }\\limits_{\\varepsilon  \\to 0} \\varepsilon {e^{j\\theta }}}} = {\\left. {\\frac{{K({\\tau _1}s + 1)({\\tau _2}s + 1) \\cdots ({\\tau _m}s + 1)}}{{{s^v}({T_1}s + 1)({T_2}s + 1) \\cdots ({T_{n - v}}s + 1)}}} \\right|_{s = \\mathop {\\lim }\\limits_{\\varepsilon  \\to 0} \\varepsilon {e^{j\\theta }}}}$$\n",
    "$$= \\frac{K}{{{\\varepsilon ^v}}}{e^{ - jv\\theta }} = \\infty {e^{ - jv\\theta }}$$  \n",
    "\n",
    "$ν$为系统中串联的积分环节数目。\n",
    "\n",
    "由以上分析可见, 当$s$沿着小半圆从$\\omega=0-$变化到$\\omega=0+$时, $\\theta$角从－90°经0°变化到＋90°, 这时在$G(s)H(s)$平面上的映射曲线将沿着半径为无穷大的圆弧按顺时针方向从90ν°经过 0° 转到－90ν°。"
   ]
  },
  {
   "cell_type": "markdown",
   "metadata": {
    "slideshow": {
     "slide_type": "subslide"
    }
   },
   "source": [
    "例 5-10 绘制开环传递函数为     \n",
    "\n",
    "$$G(s)H(s) = \\frac{{10}}{{{s^2}(s + 1)(s + 2)}}$$  \n",
    "\n",
    "的奈氏图, 并判断系统的稳定性。    \n",
    "\n",
    "解: 开环幅频特性和相频特性分别为   \n",
    "$$A(\\omega) = \\frac{{10}}{{\\omega \\sqrt {1 + {\\omega^2}} \\sqrt {{\\omega ^2} + 4} }}$$  \n",
    "\n",
    "$$\\phi (\\omega ) =  - 90^\\circ  - \\arctan\\omega  - \\arctan0.5\\omega$$"
   ]
  },
  {
   "cell_type": "markdown",
   "metadata": {
    "slideshow": {
     "slide_type": "subslide"
    }
   },
   "source": [
    "从而有$\\omega=0+$时, $A(\\omega)=\\infty$,$\\phi(\\omega)=-90^{\\circ}-\\Delta$,Δ为正的很小量,故起点在第Ⅲ象限;$\\omega=+\\infty$时,$A(\\omega) =0,\\phi(\\omega)=-270^{\\circ}+\\Delta$,故在第Ⅱ象限趋向终点$(0, j0)$。因为相角范围从－90°到－270°,所以必有与负实轴的交点。由$\\phi(\\omega)=－180^{\\circ}$得：    \n",
    "\n",
    "$$- 90^\\circ  - \\arctan\\omega  - \\arctan 0.5\\omega  =  - 180^\\circ$$  \n",
    "\n",
    "即：    \n",
    "\n",
    "$$\\arctan 0.5\\omega  = 90^\\circ  - \\arctan\\omega$$  \n",
    "\n",
    "上式两边取正切,得$0.5\\omega=1/\\omega$,即$\\omega=1.414$,此时$A(\\omega)=1.67$。因此奈氏图与实轴的交点为$(－1.67,j0)$。系统开环传递函数有一极点在s平面的原点处,因此奈氏回线中半径为无穷小量$\\epsilon$的半圆弧对应的映射曲线是一个半径为无穷大的圆弧:     \n",
    "\n",
    "$$\\omega: 0-\to 0+; \\quad \\theta: -90^{\\circ} \to 0^{\\circ} \to +90^{\\circ} \\quad \\phi(\\omega): +90^{\\circ} \to 0^{\\circ} \to -90^{\\circ}$$"
   ]
  },
  {
   "cell_type": "markdown",
   "metadata": {
    "slideshow": {
     "slide_type": "subslide"
    }
   },
   "source": [
    "奈氏图如图5-40所示。因为s平面右半部的开环极点数P＝0,且奈氏曲线顺时针包围(－1,j0)点2次,即N=－2,则Z＝P－N=2,所以系统不稳定,有两个闭环极点在s平面右半部。用MATLAB绘制(－1,j0)点附近的奈氏图如图5-41所示，其程序如下:   \n",
    "\n",
    "```\n",
    "nyquist([10], conv(conv([10], [11]), [12]));\n",
    "```"
   ]
  },
  {
   "cell_type": "markdown",
   "metadata": {
    "slideshow": {
     "slide_type": "subslide"
    }
   },
   "source": [
    "<img src=\"./figs-ch05-2/7.png\" width=\"30%\" height=\"30%\" align=\"center\" alt=\"图5-40 例5-10的奈氏图\"/>\n",
    "\n"
   ]
  },
  {
   "cell_type": "markdown",
   "metadata": {
    "slideshow": {
     "slide_type": "subslide"
    }
   },
   "source": [
    "<img src=\"./figs-ch05-2/8.png\" width=\"40%\" height=\"40%\" align=\"center\" alt=\"图5-41 MATLAB绘制 例5-10 的奈氏图\"/>  \n",
    "\n"
   ]
  },
  {
   "cell_type": "markdown",
   "metadata": {
    "slideshow": {
     "slide_type": "subslide"
    }
   },
   "source": [
    "例5-11  &emsp;绘制开环传递函数为    \n",
    "\n",
    "$$G(s)H(s) = \\frac{{10}}{{{s^2}(s + 1)(s + 2)}}$$  \n",
    "\n",
    "的奈氏图, 并判断系统的稳定性。     \n",
    "\n",
    "解:  开环幅频特性和相频特性分别为   \n",
    "\n",
    "$$A(\\omega ) = \\frac{{10}}{{\\sqrt {1 + {\\omega ^2}} \\sqrt {{\\omega^2} + 4} }},\\phi (\\omega ) =  - 180^\\circ  - \\arctan\\omega  - \\arctan 0.5\\omega$$  \n",
    "\n",
    "从而有$\\omega=0+$时,$A(\\omega)=\\infty$， $\\phi(\\omega)=-180^{\\circ}-\\Delta$,Δ为正的很小量, 故奈氏图起点在第Ⅱ象限; $\\omega=+\\infty$时,$A(\\omega)=0,\\phi(\\omega)=-360^{\\circ}+\\Delta$,故在第Ⅰ象限趋向终点(0,j0)。  \n",
    "\n"
   ]
  },
  {
   "cell_type": "markdown",
   "metadata": {
    "slideshow": {
     "slide_type": "subslide"
    }
   },
   "source": [
    "系统开环传递函数有2个极点在$s$平面的原点处, 因此奈氏回线中半径为无穷小量$\\epsilon$的半圆弧对应的映射曲线是一个半径为无穷大的圆弧:   \n",
    "\n",
    "$$\\omega:0-→0+; θ:－90^{\\circ}→0^{\\circ}→+90^{\\circ};$$\n",
    "$$\\phi(\\omega):+180^{\\circ}→ 0^{\\circ}→-180^{\\circ}$$  \n",
    "\n",
    "奈氏图如图5-42所示。因为$s$平面右半部的开环极点数$P＝0$, 且奈氏曲线顺时针包围$(－1,j0)$点2次, 即$N=-2$, 则$Z＝P-N=2$, 所以系统不稳定, 有两个闭环极点在$s$平面右半部。用MATLAB绘制$(-1,j0)$点附近的奈氏图如图5-43所示， 其程序如下：  \n",
    "\n",
    "```\n",
    "nyquist([10],conv(conv([100], [11]),[12]))\n",
    "```\n"
   ]
  },
  {
   "cell_type": "markdown",
   "metadata": {
    "slideshow": {
     "slide_type": "subslide"
    }
   },
   "source": [
    "<img src=\"./figs-ch05-2/9.png\" width=\"40%\" height=\"40%\" align=\"center\" alt=\"图5-42 例5-11的奈氏图\"/>\n",
    "\n"
   ]
  },
  {
   "cell_type": "markdown",
   "metadata": {
    "slideshow": {
     "slide_type": "subslide"
    }
   },
   "source": [
    "<img src=\"./figs-ch05-2/10.png\" width=\"40%\" height=\"40%\" align=\"center\" alt=\"图5-43 MATLAB绘制 例5-11 的奈氏图\" /> \n",
    "\n"
   ]
  },
  {
   "cell_type": "markdown",
   "metadata": {
    "slideshow": {
     "slide_type": "subslide"
    }
   },
   "source": [
    "### 5.4.4 对数频率稳定判据\n",
    "对数频率稳定判据实际上是奈氏判据的另一种形式, 即利用开环系统的伯德图来判别系统的稳定性。系统开环频率特性的奈氏图(极坐标图)和伯德图之间有如下对应关系:  \n",
    "* 奈氏图上以原点为圆心的单位圆对应于伯德图对数幅频特性的0分贝线;   \n",
    "* 奈氏图上的负实轴对应于伯德图上相频特性的－180°线。    \n",
    "\n",
    "伯德图上，$\\phi(\\omega)$从－180°线以下增加到－180°线以上，称为$\\phi(\\omega)$对－180°线的正穿越;反之，称为负穿越。 "
   ]
  },
  {
   "cell_type": "markdown",
   "metadata": {
    "slideshow": {
     "slide_type": "subslide"
    }
   },
   "source": [
    "<img src=\"./figs-ch05-2/11.png\" width=\"50%\" height=\"50%\" align=\"center\" alt=\"图5-44 例5-12的伯德图\" />\n",
    "\n"
   ]
  },
  {
   "cell_type": "markdown",
   "metadata": {
    "slideshow": {
     "slide_type": "subslide"
    }
   },
   "source": [
    "对数频率稳定判据可表述如下：  闭环系统稳定的充分必要条件是，当$\\omega$由0变到$\\infty$时，在开环对数幅频特性$L(\\omega)\\geq 0$的频段内，相频特性$\\phi(\\omega)$穿越－180°线的次数(正穿越与负穿越次数之差)为P/2。P为s平面右半部开环极点数目。  \n",
    "注意，奈氏判据中，s沿着奈氏回线顺时针方向移动一周，故$\\omega$由$－\\infty$变到$\\infty$，所以伯德图中$\\omega$由0变到$\\infty$时，穿越次数为P/2，而不是P。   \n",
    "对于开环稳定的系统，此时P=0，若在L$(\\omega)\\geq 0$的频段内，相频特性$\\phi(\\omega)$穿越-180°线的次数(正穿越与负穿越之差)为0则闭环系统稳定；否则闭环系统不稳定。"
   ]
  },
  {
   "cell_type": "markdown",
   "metadata": {
    "slideshow": {
     "slide_type": "subslide"
    }
   },
   "source": [
    "例5-12  &emsp;系统开环传递函数为   \n",
    "\n",
    "$$G(s)H(s) = \\frac{K}{{s(TS + 1)}}$$  \n",
    "\n",
    "试用对数稳定判据判断其稳定性。  \n",
    "\n",
    "解:&emsp; 伯德图如图5-44所示。   \n",
    "此系统的开环传递函数在s平面右半部没有极点, 即P=0,而在$L(\\omega)\\geq 0$的频段内, 相频特性$\\phi(\\omega)$不穿越－180°线, 故闭环系统必然稳定。 "
   ]
  },
  {
   "cell_type": "markdown",
   "metadata": {
    "slideshow": {
     "slide_type": "slide"
    }
   },
   "source": [
    "## 5.5 稳定裕度 \n",
    "从奈氏判据可知，若系统的开环传递函数没有右半平面的极点，且闭环系统是稳定的，那么奈氏曲线$G(j\\omega)H(j\\omega)$离(－1,j0)点越远，则闭环系统的稳定程度越高；反之，$G(j\\omega)H(j\\omega)$离(－1,j0)点越近，则闭环系统的稳定程度越低；如果$G(j\\omega)H(j\\omega)$穿过(－1,j0)点，则意味着闭环系统处于临界稳定状态。这便是通常所说的相对稳定性，它通过$G(j\\omega)H(j\\omega)$对(－1,j0)点的靠近程度来度量，其定量表示为相角裕度$\\gamma$和增益裕度$K_{g}$，如图5-45所示。"
   ]
  },
  {
   "cell_type": "markdown",
   "metadata": {
    "slideshow": {
     "slide_type": "subslide"
    }
   },
   "source": [
    "<img src=\"./figs-ch05-2/12.png\" width=\"80%\" height=\"80%\" align=\"center\"/> \n",
    "\n",
    "<img src=\"./figs-ch05-2/13.png\" width=\"80%\" height=\"80%\" align=\"center\" alt=\"图5-45 相角裕度和增益裕度\"/>\n",
    "\n"
   ]
  },
  {
   "cell_type": "markdown",
   "metadata": {
    "slideshow": {
     "slide_type": "subslide"
    }
   },
   "source": [
    "**1. 相角裕度$\\gamma$**  \n",
    "\n",
    "在频率特性上对应于幅值$A(\\omega)＝1$的角频率称为剪切频率, 以$\\omega_{c}$表示, 在剪切频率处, 相频特性距－180°线的相位差$\\gamma$叫做相角裕度。图5-45(a)表示的具有正相角裕度的系统不仅稳定, 而且还有相当的稳定储备, 它可以在$\\omega_{c}$的频率下, 允许相角再增加(迟后)$\\gamma$度才达到临界稳定状态。因此相角裕度也叫相位稳定性储备。 \n",
    "对于稳定的系统, $\\phi$必在伯德图－180°线以上, 这时称为正相角裕度, 或者有正相角裕度, 如图5-45(c) 所示。对于不稳定系统, $\\phi$必在－180°线以下, 这时称为负相角裕度, 如图5-45(d)所示。 故有   \n",
    "\n",
    "$$\\gamma  = 180^\\circ  + \\phi ({\\omega_c})\\tag{5.42}$$"
   ]
  },
  {
   "cell_type": "markdown",
   "metadata": {
    "slideshow": {
     "slide_type": "subslide"
    }
   },
   "source": [
    "**2. 增益裕度$K_{g}$**  \n",
    "\n",
    "在相频特性等于－180°的频率$\\omega_{g}$处, 开环幅频特性$A(\\omega_g)$的倒数称为增益裕度, 记做$K-{g}$, 即  \n",
    "\n",
    "$${K_g} = \\frac{1}{{A({\\omega_g})}}\\tag{5.43}$$  \n",
    "\n",
    "在伯德图上, 增益裕度改以分贝(dB)表示, $K_{g}=-20 lgA(\\omega_{g})$。  \n",
    "\n",
    "此时, 对于稳定的系统, $L(\\omega_{g})$必在伯德图0dB线以下, 这时称为正增益裕度, 如图5-45(c)所示。对于不稳定系统, $L(\\omega_{g})$必在0dB线以上, 这时称为负增益裕度, 如图5-45(d) 所示。 \n",
    "以上表明, 在图5-45(c)中, 对数幅频特性还可上移$K_{g}$, 即开环系统的增益增加$K_{g}$倍, 则闭环系统达到稳定的临界状态。 \n",
    "\n"
   ]
  },
  {
   "cell_type": "markdown",
   "metadata": {
    "slideshow": {
     "slide_type": "subslide"
    }
   },
   "source": [
    "在奈氏图中,奈氏曲线与负实轴的交点到原点的距离即为$1/K_{g}$, 它代表在频率$\\omega_{g}$处开环频率特性的模。显然,对于稳定系统, $1/K_{g}＜1$, 如图5-45(a)所示; 对于不稳定系统有$1/ K_{g} ＞1$, 如图5-45(b)所示。     \n",
    "对于一个稳定的最小相位系统, 其相角裕度应为正值, 增益裕度应大于1。   \n",
    "严格地讲, 应当同时给出相角裕度和增益裕度, 才能确定系统的相对稳定性。 但在粗略估计系统的暂态响应指标时, 有时主要对相角裕度提出要求。   \n",
    "保持适当的稳定裕度, 可以预防系统中元件性能变化可能带来的不利影响。为使系统有满意的稳定储备, 以及得到较满意的暂态响应, 在工程实践中, 一般希望$\\gamma$为$45^{\\circ}\\sim60^{\\circ},K_{g} \\geq 10dB$, 即$K-{g} \\geq 3$。 "
   ]
  },
  {
   "cell_type": "markdown",
   "metadata": {
    "slideshow": {
     "slide_type": "subslide"
    }
   },
   "source": [
    "例5-13   单位反馈系统开环传递函数为   \n",
    "\n",
    "$$G(s) = \\frac{{{K_1}}}{{s(s + 1)(s + 5)}}$$  \n",
    "\n",
    "分别求取$K_{1}=10及K_{1} =100$时的相角裕度和增益裕度。  \n",
    "解：  相角裕度可通过对数幅频特性用图解法求出。 $K_{1}$ =10时,   \n",
    "\n",
    "$$G(s) = \\frac{{{K_1}}}{{5s(1 + s)(1 + s/5)}}$$  \n",
    "\n",
    "$\\omega_{1}=1, \\omega_{2}=5.20 \\lg K = 20$， $\\lg 2=6 dB$。画出对数幅频特性曲线, 如图5-46所示。 "
   ]
  },
  {
   "cell_type": "markdown",
   "metadata": {
    "slideshow": {
     "slide_type": "subslide"
    }
   },
   "source": [
    "<img src=\"./figs-ch05-2/14.png\" width=\"70%\" height=\"70%\" align=\"center\" alt=\"图5-46 例5-13的伯德图(幅频特性)\"/>\n",
    "\n"
   ]
  }
 ],
 "metadata": {
  "celltoolbar": "Edit Metadata",
  "kernelspec": {
   "display_name": "Python 2",
   "language": "python",
   "name": "python2"
  },
  "language_info": {
   "codemirror_mode": {
    "name": "ipython",
    "version": 2
   },
   "file_extension": ".py",
   "mimetype": "text/x-python",
   "name": "python",
   "nbconvert_exporter": "python",
   "pygments_lexer": "ipython2",
   "version": "2.7.11"
  }
 },
 "nbformat": 4,
 "nbformat_minor": 0
}
